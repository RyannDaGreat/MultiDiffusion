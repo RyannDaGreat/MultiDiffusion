{
 "cells": [
  {
   "cell_type": "code",
   "execution_count": null,
   "id": "8da399b4-c2b6-424d-9287-800b9f180643",
   "metadata": {
    "execution": {
     "iopub.execute_input": "2024-05-18T04:14:38.331845Z",
     "iopub.status.busy": "2024-05-18T04:14:38.331548Z",
     "iopub.status.idle": "2024-05-18T04:14:39.550932Z",
     "shell.execute_reply": "2024-05-18T04:14:39.550192Z",
     "shell.execute_reply.started": "2024-05-18T04:14:38.331814Z"
    }
   },
   "outputs": [],
   "source": [
    "from IPython.display import display, HTML, Javascript\n",
    "import rp\n",
    "import io\n",
    "import base64\n",
    "from PIL import Image\n",
    "import random\n",
    "\n",
    "class JupyterTelevisionChannel:\n",
    "    def __init__(self, name=None):\n",
    "        if name is None: name = str(hash(self))\n",
    "        self._name = name\n",
    "        self._html_class = \"JupyterTelevisionChannel_\" + self.name\n",
    "        self.image = Image.new('RGB', (128, 128), rp.random_rgb_byte_color())\n",
    "\n",
    "    def _default_image(self):\n",
    "        return rp.display_image(rp.cv_text_to_image(self.name,color=rp.random_rgb_byte_color()))\n",
    "\n",
    "    def _get_html(self):\n",
    "        return '<img class=\"{html_class}\" src=\"data:image/png;base64,{base64_image}\"/>'.format(\n",
    "            html_class=self._html_class,\n",
    "            base64_image=self._base64_image\n",
    "        )\n",
    "\n",
    "    @property\n",
    "    def name(self):\n",
    "        return self._name\n",
    "    \n",
    "    @property\n",
    "    def image(self):\n",
    "        return self._image.copy()\n",
    "\n",
    "    @image.setter\n",
    "    def image(self, image):\n",
    "        self._image = image\n",
    "        self._base64_image = rp.encode_image_to_base64(image)\n",
    "        self.update_viewports()\n",
    "\n",
    "    def display(self):\n",
    "        display(HTML(self._get_html()))\n",
    "\n",
    "    # def update_viewports(self):\n",
    "    #     js = '''\n",
    "    #     <script>\n",
    "    #     (function() {{\n",
    "    #         var imgs = document.getElementsByClassName(\"{html_class}\");\n",
    "    #         for (var i = 0; i < imgs.length; i++) {{\n",
    "    #             imgs[i].src = \"data:image/png;base64,{base64_image}\";\n",
    "    #         }}\n",
    "    #     }})();\n",
    "    #     </script>\n",
    "    #     '''.format(html_class=self._html_class, base64_image=self._base64_image)\n",
    "    #     display(HTML(js))\n",
    "\n",
    "    def update_viewports(self):\n",
    "        js_code = '''\n",
    "        var imgs = document.getElementsByClassName(\"{0}\");\n",
    "        for (var i = 0; i < imgs.length; i++) {{\n",
    "            imgs[i].src = \"data:image/png;base64,{1}\";\n",
    "        }}\n",
    "        '''.format(self._html_class, self._base64_image, self.name)\n",
    "        display(Javascript(js_code, lib=None, css=None))\n",
    "\n",
    "\n",
    "# Example usage\n",
    "channel = JupyterTelevisionChannel()\n",
    "channel.display()\n",
    "\n",
    "# Later, to update the image\n",
    "new_image = create_random_image(size=(128, 128))\n",
    "channel.image = new_image  # This will update the image without growing the output cell\n"
   ]
  },
  {
   "cell_type": "code",
   "execution_count": null,
   "id": "4c40fa72-bde1-444f-b3da-71e2f0a6fff3",
   "metadata": {
    "execution": {
     "iopub.execute_input": "2024-05-18T04:14:42.464973Z",
     "iopub.status.busy": "2024-05-18T04:14:42.464502Z",
     "iopub.status.idle": "2024-05-18T04:14:42.487126Z",
     "shell.execute_reply": "2024-05-18T04:14:42.486276Z",
     "shell.execute_reply.started": "2024-05-18T04:14:42.464937Z"
    }
   },
   "outputs": [],
   "source": [
    "while True:\n",
    "    new_image = create_random_image(size=(128, 128))\n",
    "    channel.image = new_image\n",
    "    rp.sleep(.1)"
   ]
  },
  {
   "cell_type": "code",
   "execution_count": null,
   "id": "e6f22167-073a-47d7-8ff8-e4ddedb7d5a5",
   "metadata": {
    "execution": {
     "iopub.execute_input": "2024-05-18T01:14:30.333663Z",
     "iopub.status.busy": "2024-05-18T01:14:30.333227Z",
     "iopub.status.idle": "2024-05-18T01:14:30.342461Z",
     "shell.execute_reply": "2024-05-18T01:14:30.341886Z",
     "shell.execute_reply.started": "2024-05-18T01:14:30.333620Z"
    }
   },
   "outputs": [],
   "source": [
    "from IPython.display import display, HTML, Javascript, DisplayHandle\n",
    "\n",
    "class JupyterTelevisionChannel:\n",
    "    def __init__(self, name=None):\n",
    "        if name is None:\n",
    "            name = str(hash(self))\n",
    "        self._name = name\n",
    "        self._html_class = \"JupyterTelevisionChannel_\" + self._name\n",
    "        self._image = self._default_image()\n",
    "        self._base64_image = rp.encode_image_to_base64(self._image)\n",
    "        self.display_handle = DisplayHandle()  # Unique display handle for this channel\n",
    "\n",
    "    def _default_image(self):\n",
    "        return create_random_image()\n",
    "\n",
    "    def _get_html(self):\n",
    "        return '<img class=\"{0}\" src=\"data:image/png;base64,{1}\"/>'.format(\n",
    "            self._html_class, self._base64_image\n",
    "        )\n",
    "\n",
    "    def display(self):\n",
    "        self.display_handle.display(HTML(self._get_html()))\n",
    "\n",
    "    def update_viewports(self):\n",
    "        js_code = '''\n",
    "        var imgs = document.getElementsByClassName(\"{0}\");\n",
    "        for (var i = 0; i < imgs.length; i++) {{\n",
    "            imgs[i].src = \"data:image/png;base64,{1}\";\n",
    "        }}\n",
    "        '''.format(self._html_class, self._base64_image)\n",
    "        self.display_handle.update(Javascript(js_code, lib=None, css=None, script_id=None, div_id=None, suppress_output=True))\n",
    "\n",
    "# Example usage\n",
    "channel = JupyterTelevisionChannel()\n",
    "channel.display()  # Initializes and displays the channel\n",
    "\n",
    "# Later, to update the image\n",
    "new_image = create_random_image(size=(128, 128))\n",
    "channel.image = new_image  # Efficiently updates the image without additional outputs\n"
   ]
  },
  {
   "cell_type": "code",
   "execution_count": null,
   "id": "0dcc58d8-efb0-4542-8ad7-21cf1d493de8",
   "metadata": {
    "execution": {
     "iopub.execute_input": "2024-05-18T01:17:48.081792Z",
     "iopub.status.busy": "2024-05-18T01:17:48.081424Z",
     "iopub.status.idle": "2024-05-18T01:17:49.496040Z",
     "shell.execute_reply": "2024-05-18T01:17:49.495176Z",
     "shell.execute_reply.started": "2024-05-18T01:17:48.081768Z"
    }
   },
   "outputs": [],
   "source": [
    "while True:\n",
    "        # Later, to update the image\n",
    "    new_image = create_random_image(size=(128, 128))\n",
    "    channel.image = new_image  # Efficiently updates the image without additional outputs\n",
    "    rp.sleep(.1)"
   ]
  },
  {
   "cell_type": "code",
   "execution_count": null,
   "id": "8563f0d0-e6a6-4316-a3c7-cf36e7cb3280",
   "metadata": {
    "execution": {
     "iopub.execute_input": "2024-05-18T01:17:50.693167Z",
     "iopub.status.busy": "2024-05-18T01:17:50.692752Z",
     "iopub.status.idle": "2024-05-18T01:17:50.797119Z",
     "shell.execute_reply": "2024-05-18T01:17:50.796371Z",
     "shell.execute_reply.started": "2024-05-18T01:17:50.693141Z"
    }
   },
   "outputs": [],
   "source": [
    "new_image = create_random_image(size=(128, 128))\n",
    "channel.image = new_image  # Efficiently updates the image without additional outputs\n",
    "rp.sleep(.1)"
   ]
  },
  {
   "cell_type": "code",
   "execution_count": null,
   "id": "2b9d4ae4-52aa-4d43-9d2e-2ba43740d80e",
   "metadata": {
    "execution": {
     "iopub.execute_input": "2024-05-18T01:19:04.929368Z",
     "iopub.status.busy": "2024-05-18T01:19:04.928884Z",
     "iopub.status.idle": "2024-05-18T01:19:04.943457Z",
     "shell.execute_reply": "2024-05-18T01:19:04.942666Z",
     "shell.execute_reply.started": "2024-05-18T01:19:04.929327Z"
    }
   },
   "outputs": [],
   "source": [
    "from IPython.display import display, update_display, HTML, Javascript\n",
    "import random\n",
    "from uuid import uuid4\n",
    "from PIL import Image\n",
    "import io\n",
    "import base64\n",
    "\n",
    "# Utility function to create a random image and encode to base64\n",
    "def create_random_image(size=(128, 128)):\n",
    "    image = Image.new('RGB', size, (random.randint(0, 255), random.randint(0, 255), random.randint(0, 255)))\n",
    "    buffered = io.BytesIO()\n",
    "    image.save(buffered, format=\"PNG\")\n",
    "    return base64.b64encode(buffered.getvalue()).decode('utf-8')\n",
    "\n",
    "# Assuming we have a suitable class already\n",
    "class JupyterTelevisionChannel:\n",
    "    def __init__(self, name=None):\n",
    "        if name is None:\n",
    "            name = str(uuid4())\n",
    "        self._name = name\n",
    "        self._html_class = \"JupyterTelevisionChannel_\" + name\n",
    "        self.display_id = str(uuid4())  # Unique ID for display updates\n",
    "        self._image_base64 = create_random_image()\n",
    "\n",
    "    def _get_html(self):\n",
    "        return '<img class=\"{0}\" src=\"data:image/png;base64,{1}\"/>'.format(\n",
    "            self._html_class, self._image_base64\n",
    "        )\n",
    "\n",
    "    def display(self):\n",
    "        html_content = HTML(self._get_html())\n",
    "        display(html_content, display_id=self.display_id)\n",
    "\n",
    "    def update(self, new_image_base64):\n",
    "        self._image_base64 = new_image_base64\n",
    "        html_content = HTML(self._get_html())\n",
    "        update_display(html_content, display_id=self.display_id)\n",
    "\n",
    "# Example usage\n",
    "channel = JupyterTelevisionChannel()\n",
    "channel.display()  # Initial display\n",
    "\n",
    "# Create a new image for the update\n",
    "new_base64_image = create_random_image(size=(128, 128))\n",
    "channel.update(new_base64_image)  # Update the displayed image\n"
   ]
  },
  {
   "cell_type": "code",
   "execution_count": null,
   "id": "a7b243c2-a5c9-473f-972a-90a78c7a033e",
   "metadata": {
    "execution": {
     "iopub.execute_input": "2024-05-18T01:17:16.747287Z",
     "iopub.status.busy": "2024-05-18T01:17:16.746451Z",
     "iopub.status.idle": "2024-05-18T01:17:24.415009Z",
     "shell.execute_reply": "2024-05-18T01:17:24.414089Z",
     "shell.execute_reply.started": "2024-05-18T01:17:16.747244Z"
    }
   },
   "outputs": [],
   "source": [
    "while True:\n",
    "    # Create a new image for the update\n",
    "    new_base64_image = create_random_image(size=(128, 128))\n",
    "    channel.update(new_base64_image)  # Update the displayed image\n",
    "    rp.sleep(.1)"
   ]
  },
  {
   "cell_type": "code",
   "execution_count": null,
   "id": "d0411c93-cecb-43a3-b836-d35174eb0827",
   "metadata": {
    "execution": {
     "iopub.execute_input": "2024-05-18T02:02:22.117742Z",
     "iopub.status.busy": "2024-05-18T02:02:22.117286Z",
     "iopub.status.idle": "2024-05-18T02:02:22.133738Z",
     "shell.execute_reply": "2024-05-18T02:02:22.133033Z",
     "shell.execute_reply.started": "2024-05-18T02:02:22.117704Z"
    }
   },
   "outputs": [],
   "source": [
    "\n",
    "import rp  # Custom module with specific image handling functionalities\n",
    "\n",
    "\n",
    "class JupyterImageChannel:\n",
    "    def __init__(self, name=None):\n",
    "        assert rp.running_in_jupyter_notebook()\n",
    "        \n",
    "        self._display_id = rp.random_namespace_hash(4)\n",
    "        self._init_update()\n",
    "\n",
    "    def _get_html(self, image) -> str:\n",
    "        \"\"\"Overwrite this when subclassing\"\"\"\n",
    "        base64_image = rp.encode_image_to_base64(image)\n",
    "        return '<img src=\"data:image/png;base64,%s\"/>' % base64_image\n",
    "\n",
    "    def _init_update(self):\n",
    "        \"\"\"Overwrite this when subclassing\"\"\"\n",
    "        self.update(rp.cv_text_to_image(self._display_id, color=rp.random_rgb_byte_color()))\n",
    "\n",
    "    def display(self):\n",
    "        \"\"\"Adds a new viewport\"\"\"\n",
    "        from IPython.display import display, HTML\n",
    "        display(self._html, display_id=self._display_id)\n",
    "        return self\n",
    "    \n",
    "    def update(self, image):\n",
    "        \"\"\"Updates the viewport\"\"\"\n",
    "        from IPython.display import update_display\n",
    "        self._html = HTML(self._get_html(image))\n",
    "        update_display(self._html, display_id=self._display_id)\n",
    "        return self\n",
    "\n",
    "\n",
    "\n",
    "\n",
    "class _JupyterDisplayChannel:\n",
    "    def __init__(self):\n",
    "        assert rp.running_in_jupyter_notebook()\n",
    "        \n",
    "        self._display_id = rp.random_namespace_hash(4)\n",
    "        self._init_update()\n",
    "\n",
    "    def _get_html(self, image) -> str:\n",
    "        \"\"\"Overwrite this when subclassing\"\"\"\n",
    "        base64_image = rp.encode_image_to_base64(image)\n",
    "        return '<img src=\"data:image/png;base64,%s\"/>' % base64_image\n",
    "\n",
    "    def _init_update(self):\n",
    "        \"\"\"Overwrite this when subclassing\"\"\"\n",
    "        self.update(rp.cv_text_to_image(self._display_id, color=rp.random_rgb_byte_color()))\n",
    "\n",
    "    def display(self):\n",
    "        \"\"\"Adds a new viewport\"\"\"\n",
    "        from IPython.display import display, HTML\n",
    "        display(self._html, display_id=self._display_id)\n",
    "        return self\n",
    "    \n",
    "    def update(self, image):\n",
    "        \"\"\"Updates the viewport\"\"\"\n",
    "        from IPython.display import update_display\n",
    "        self._html = HTML(self._get_html(image))\n",
    "        update_display(self._html, display_id=self._display_id)\n",
    "        return self\n",
    "\n",
    "\n",
    "# Example usage\n",
    "channel = JupyterImageChannel()\n",
    "channel.display()  # Initial display\n",
    "\n",
    "# Example usage\n",
    "channel.display()  # Initial display\n",
    "# channel.display()  # Initial display\n",
    "# channel.display()  # Initial display\n",
    "# channel.display()  # Initial display\n",
    "# channel.display()  # Initial display\n",
    "# channel.display()  # Initial display\n",
    "# channel.display()  # Initial display\n",
    "\n",
    "# # Create a new image using rp functions for the update\n",
    "# new_image = rp.cv_text_to_image(\"Updated Image\", color=rp.random_rgb_byte_color())\n",
    "# channel.update(new_image)  # Update the displayed image\n"
   ]
  },
  {
   "cell_type": "code",
   "execution_count": null,
   "id": "8695f82e-9eda-4d8a-8339-80410764bdc1",
   "metadata": {
    "execution": {
     "iopub.execute_input": "2024-05-18T02:09:55.268304Z",
     "iopub.status.busy": "2024-05-18T02:09:55.267897Z",
     "iopub.status.idle": "2024-05-18T02:09:57.944504Z",
     "shell.execute_reply": "2024-05-18T02:09:57.943831Z",
     "shell.execute_reply.started": "2024-05-18T02:09:55.268277Z"
    }
   },
   "outputs": [],
   "source": [
    "channel = JupyterImageChannel().display()\n",
    "\n",
    "while True:\n",
    "    # Create a new image using rp functions for the update\n",
    "    image = rp.cv_text_to_image(\"Hello World!\")\n",
    "    for angle in range(360):\n",
    "        channel.update(rp.rotate_image(image,angle))  # Update the displayed image\n",
    "        rp.sleep(.1)\n"
   ]
  },
  {
   "cell_type": "code",
   "execution_count": null,
   "id": "b4e4d2e5-a4d9-44bf-bf4b-457a9e879ed1",
   "metadata": {
    "execution": {
     "iopub.execute_input": "2024-05-18T01:56:17.130744Z",
     "iopub.status.busy": "2024-05-18T01:56:17.130112Z",
     "iopub.status.idle": "2024-05-18T02:01:24.082055Z",
     "shell.execute_reply": "2024-05-18T02:01:24.080985Z",
     "shell.execute_reply.started": "2024-05-18T01:56:17.130713Z"
    }
   },
   "outputs": [],
   "source": [
    "rp.pterm()\n"
   ]
  },
  {
   "cell_type": "code",
   "execution_count": null,
   "id": "7799cdd8-2afc-456a-8541-140229bfb971",
   "metadata": {
    "execution": {
     "iopub.execute_input": "2024-05-18T02:10:43.844487Z",
     "iopub.status.busy": "2024-05-18T02:10:43.844118Z",
     "iopub.status.idle": "2024-05-18T02:10:43.849684Z",
     "shell.execute_reply": "2024-05-18T02:10:43.849222Z",
     "shell.execute_reply.started": "2024-05-18T02:10:43.844462Z"
    }
   },
   "outputs": [],
   "source": [
    "from IPython.display import display, Image\n",
    "rp.as_pil_image(rp.cv_text_to_image(\"COOCO\"))\n"
   ]
  },
  {
   "cell_type": "code",
   "execution_count": null,
   "id": "06a47b8b-957a-4a5e-8bbb-04577e2067e2",
   "metadata": {
    "execution": {
     "iopub.execute_input": "2024-05-18T03:57:32.506075Z",
     "iopub.status.busy": "2024-05-18T03:57:32.505457Z",
     "iopub.status.idle": "2024-05-18T03:57:32.514660Z",
     "shell.execute_reply": "2024-05-18T03:57:32.514154Z",
     "shell.execute_reply.started": "2024-05-18T03:57:32.506046Z"
    }
   },
   "outputs": [],
   "source": [
    "def _image_to_html(image):\n",
    "    # Also good: See below\n",
    "    base64_image = rp.encode_image_to_base64(image)\n",
    "    return '<img src=\"data:content/png;base64,%s\"/>' % base64_image\n",
    "\n",
    "class JupyterDisplayChannel:\n",
    "    def __init__(self):\n",
    "        \"\"\"\n",
    "        Used for displaying and updating content in Jupyter notebooks.\n",
    "        It's analagous to a bunch of televisions, all subscribed to this channel.\n",
    "        \n",
    "        The JupyterDisplayChannel allows you to create multiple viewports and efficiently\n",
    "        update them with various types of content, including text, numbers, images, and grids of these.\n",
    "\n",
    "        First, create a channel. Then, display it whever you want (can be multiple places in your notebook).\n",
    "        Then, push updates to it to show content with update() or grid_update()\n",
    "        See the self-contained examples below for how to do this.\n",
    "\n",
    "        \n",
    "        EXAMPLE:\n",
    "            >>> channel = JupyterDisplayChannel()\n",
    "\n",
    "            >>> #You can have multiple viewports for a given channel\n",
    "            >>> print(\"First viewport:\")\n",
    "            >>> channel.display()\n",
    "            >>> print(\"Second viewport:\")\n",
    "            >>> channel.display()\n",
    "\n",
    "            >>> #You can efficiently animate images this way\n",
    "            >>> image = rp.cv_text_to_image(\"Hello\\nWorld!\")\n",
    "            >>> for angle in range(360 * 3):\n",
    "            >>>     channel.update(rp.rotate_image(image, angle))\n",
    "\n",
    "            >>> #You can update anything that Jupyter can display\n",
    "            >>> for num in range(45):\n",
    "            >>>     channel.update(list(range(num%15)))\n",
    "            >>>     rp.sleep(.1)\n",
    "\n",
    "            >>> #Here's a demo showing how the grid works...\n",
    "            >>> rows = [range(i) for i in range(10)]\n",
    "            >>> for _ in range(30):\n",
    "            >>>     rows = rows[1:] + [rows[0]]\n",
    "            >>>     channel.grid_update(rows)\n",
    "            >>>     rp.sleep(.1)\n",
    "            \n",
    "            >>> #And here's a demo showing how the grid can have images in it too...\n",
    "            >>> colors = \"red green blue cyan magenta yellow black\".split()\n",
    "            >>> rows = [\n",
    "            >>>     [\n",
    "            >>>         rp.rotate_image(\n",
    "            >>>             rp.cv_text_to_image(color, background_color=rp.color_name_to_byte_color(color)),\n",
    "            >>>             rp.random_int(-90, 90)\n",
    "            >>>         ) for color in colors\n",
    "            >>>     ],\n",
    "            >>>     [\n",
    "            >>>         rp.rotate_image(\n",
    "            >>>             rp.cv_text_to_image(color, color=rp.color_name_to_byte_color(color)),\n",
    "            >>>             rp.random_int(-90, 90)\n",
    "            >>>         ) for color in colors\n",
    "            >>>     ],\n",
    "            >>>     colors\n",
    "            >>> ]\n",
    "            \n",
    "            >>> for _ in range(30):\n",
    "            >>>     rows = [row[1:] + [row[0]] for row in rows]\n",
    "            >>>     channel.grid_update(rows)\n",
    "            >>>     rp.sleep(0.1)\n",
    "        \"\"\"\n",
    "        rp.pip_import(\"IPython\")\n",
    "\n",
    "        self._display_id = rp.random_namespace_hash()\n",
    "        self._update(None)\n",
    "\n",
    "    @staticmethod\n",
    "    def _convert_content(content):\n",
    "        from IPython.display import Image, HTML\n",
    "\n",
    "        if content is None:\n",
    "            #Return nothing\n",
    "            return HTML(\"\")\n",
    "        elif rp.is_image(content):\n",
    "            #Return an image\n",
    "            return rp.as_pil_image(content)\n",
    "\n",
    "            # Also good: See below\n",
    "            return HTML(_image_to_html(content))\n",
    "        else:\n",
    "            #Return whatever you gave it\n",
    "            return content\n",
    "\n",
    "    \n",
    "    @staticmethod\n",
    "    def _convert_content_grid(content_grid):\n",
    "    \n",
    "        rp.pip_import('pandas')\n",
    "        from pandas import DataFrame\n",
    "        from IPython.display import HTML\n",
    "\n",
    "        #If this errors you gave it an invalid grid\n",
    "        grid = [list(row) for row in content_grid]\n",
    "\n",
    "        #Make the grid rectangular by padding each row to max length\n",
    "        width = max(map(len,grid))\n",
    "        grid = [row + [None] * (width - len(row)) for row in grid]\n",
    "        \n",
    "        def convert_grid_item(item):\n",
    "            if rp.is_image(item):\n",
    "                item = _image_to_html(item)\n",
    "            elif item is None:\n",
    "                item = \"\"\n",
    "            return item\n",
    "\n",
    "        grid = [list(map(convert_grid_item, row)) for row in grid]\n",
    "\n",
    "        df = DataFrame(grid)\n",
    "        html = df.to_html(escape=False)\n",
    "        return HTML(html)\n",
    "\n",
    "    def display(self):\n",
    "        \"\"\"Adds a new viewport\"\"\"\n",
    "        from IPython.display import display, HTML\n",
    "        display(self._converted_content, display_id=self._display_id)\n",
    "\n",
    "    def _update(self, converted_content):\n",
    "        from IPython.display import update_display\n",
    "        self._converted_content = converted_content\n",
    "        update_display(self._converted_content, display_id=self._display_id)\n",
    "    \n",
    "    def update(self, content):\n",
    "        \"\"\"Updates all viewports spawned from this channel\"\"\"\n",
    "        self._update(self._convert_content(content))\n",
    "\n",
    "\n",
    "    def grid_update(self, content_grid):\n",
    "        \"\"\"\n",
    "        Updates all viewports spawned from this channel with a grid of content\n",
    "        Pass it like [[x0y0, x1y0, x2y0], [x0y1, x1y1, x2y1] ... ]\n",
    "        Supports text, numbers and images as elements\n",
    "        \"\"\"\n",
    "        self._update(self._convert_content_grid(content_grid))\n",
    "\n",
    "\n"
   ]
  },
  {
   "cell_type": "code",
   "execution_count": null,
   "id": "4e12f47d-15db-40ef-b787-e25318abc525",
   "metadata": {
    "execution": {
     "iopub.execute_input": "2024-05-18T03:57:33.978628Z",
     "iopub.status.busy": "2024-05-18T03:57:33.978260Z",
     "iopub.status.idle": "2024-05-18T03:57:33.985692Z",
     "shell.execute_reply": "2024-05-18T03:57:33.985175Z",
     "shell.execute_reply.started": "2024-05-18T03:57:33.978605Z"
    }
   },
   "outputs": [],
   "source": [
    "image = rp.cv_text_to_image(\"Hello\\nWorld!\")\n",
    "channel = _JupyterDisplayChannel()\n",
    "channel.display()\n",
    "\n",
    "channel.update(\"Chipmunk\")\n",
    "\n",
    "# for angle in range(360 * 3):\n",
    "#     channel.update(rp.rotate_image(image, angle))"
   ]
  },
  {
   "cell_type": "code",
   "execution_count": null,
   "id": "992398d7-fc58-481b-abf5-d4a41f0b9722",
   "metadata": {},
   "outputs": [],
   "source": []
  },
  {
   "cell_type": "code",
   "execution_count": null,
   "id": "499d3a52-35f0-49ee-85ec-b31f11b7f910",
   "metadata": {
    "execution": {
     "iopub.execute_input": "2024-05-18T03:57:36.125278Z",
     "iopub.status.busy": "2024-05-18T03:57:36.124910Z",
     "iopub.status.idle": "2024-05-18T03:57:38.416319Z",
     "shell.execute_reply": "2024-05-18T03:57:38.415827Z",
     "shell.execute_reply.started": "2024-05-18T03:57:36.125255Z"
    }
   },
   "outputs": [],
   "source": [
    "channel = _JupyterDisplayChannel()\n",
    "#You can have multiple viewports for a given channel\n",
    "print(\"First viewport:\")\n",
    "channel.display()\n",
    "print(\"Second viewport:\")\n",
    "channel.display()\n",
    "#You can efficiently animate images this way\n",
    "image = rp.cv_text_to_image(\"Hello\\nWorld!\")\n",
    "for angle in range(360 * 1):\n",
    "    channel.update(rp.rotate_image(image, angle))"
   ]
  },
  {
   "cell_type": "code",
   "execution_count": null,
   "id": "a8c49d33-f119-4591-ba01-9f48623ea5a7",
   "metadata": {
    "execution": {
     "iopub.execute_input": "2024-05-18T03:49:59.896291Z",
     "iopub.status.busy": "2024-05-18T03:49:59.895816Z",
     "iopub.status.idle": "2024-05-18T03:50:03.084016Z",
     "shell.execute_reply": "2024-05-18T03:50:03.083119Z",
     "shell.execute_reply.started": "2024-05-18T03:49:59.896253Z"
    }
   },
   "outputs": [],
   "source": [
    "#Here's a demo showing how the grid works...\n",
    "rows = [range(i) for i in range(10)]\n",
    "for _ in range(30):\n",
    "    rows = rows[1:] + [rows[0]]\n",
    "    channel.grid_update(rows)\n",
    "    rp.sleep(.1)"
   ]
  },
  {
   "cell_type": "code",
   "execution_count": null,
   "id": "2c945381-0899-45f1-8c94-0a2f20c577f8",
   "metadata": {
    "execution": {
     "iopub.execute_input": "2024-05-18T04:01:35.699345Z",
     "iopub.status.busy": "2024-05-18T04:01:35.698961Z",
     "iopub.status.idle": "2024-05-18T04:01:39.403787Z",
     "shell.execute_reply": "2024-05-18T04:01:39.403226Z",
     "shell.execute_reply.started": "2024-05-18T04:01:35.699318Z"
    }
   },
   "outputs": [],
   "source": [
    ">>> #Here's a demo showing how the grid works...\n",
    ">>> rows = [range(i) for i in range(10)]\n",
    ">>> for _ in range(30):\n",
    ">>>     rows = rows[1:] + [rows[0]]\n",
    ">>>     channel.grid_update(rows)\n",
    ">>>     rp.sleep(.1)\n",
    "\n",
    ">>> #And here's a demo showing how the grid can have images in it too...\n",
    ">>> colors = \"red green blue cyan magenta yellow black\".split()\n",
    ">>> rows = [\n",
    ">>>     [\n",
    ">>>         rp.rotate_image(\n",
    ">>>             rp.cv_text_to_image(color, background_color=rp.color_name_to_byte_color(color)),\n",
    ">>>             rp.random_int(-90, 90)\n",
    ">>>         ) for color in colors\n",
    ">>>     ],\n",
    ">>>     [\n",
    ">>>         rp.rotate_image(\n",
    ">>>             rp.cv_text_to_image(color, color=rp.color_name_to_byte_color(color)),\n",
    ">>>             rp.random_int(-90, 90)\n",
    ">>>         ) for color in colors\n",
    ">>>     ],\n",
    ">>>     colors\n",
    ">>> ]\n",
    "\n",
    ">>> for _ in range(30):\n",
    ">>>     rows = [row[1:] + [row[0]] for row in rows]\n",
    ">>>     channel.grid_update(rows)\n",
    ">>>     rp.sleep(0.1)"
   ]
  },
  {
   "cell_type": "code",
   "execution_count": null,
   "id": "713adb85-750f-4531-893f-97a962e065cf",
   "metadata": {
    "execution": {
     "iopub.execute_input": "2024-05-18T03:51:14.798440Z",
     "iopub.status.busy": "2024-05-18T03:51:14.798079Z",
     "iopub.status.idle": "2024-05-18T03:51:14.807650Z",
     "shell.execute_reply": "2024-05-18T03:51:14.807048Z",
     "shell.execute_reply.started": "2024-05-18T03:51:14.798416Z"
    }
   },
   "outputs": [],
   "source": [
    "rows"
   ]
  },
  {
   "cell_type": "code",
   "execution_count": null,
   "id": "6a950846-890a-4e30-9b0a-35c3a071b04c",
   "metadata": {
    "execution": {
     "iopub.status.busy": "2024-05-18T03:39:27.973039Z",
     "iopub.status.idle": "2024-05-18T03:39:27.973282Z",
     "shell.execute_reply": "2024-05-18T03:39:27.973176Z",
     "shell.execute_reply.started": "2024-05-18T03:39:27.973166Z"
    }
   },
   "outputs": [],
   "source": [
    "for num in range(45):\n",
    "    channel.update(list(range(num%15)))\n",
    "    rp.sleep(.1)\n",
    "\n",
    "\n"
   ]
  },
  {
   "cell_type": "code",
   "execution_count": null,
   "id": "e1b04dc9-a357-4958-83fb-f0016094a97a",
   "metadata": {
    "execution": {
     "iopub.execute_input": "2024-05-18T03:40:52.402787Z",
     "iopub.status.busy": "2024-05-18T03:40:52.402426Z",
     "iopub.status.idle": "2024-05-18T03:40:58.418145Z",
     "shell.execute_reply": "2024-05-18T03:40:58.417512Z",
     "shell.execute_reply.started": "2024-05-18T03:40:52.402760Z"
    }
   },
   "outputs": [],
   "source": [
    "rows = [range(i) for i in range(10)]\n",
    "for _ in range(30):\n",
    "    rows = rows[1:] + [rows[0]]\n",
    "    rp.sleep(.2)\n",
    "channel.grid_update(rows)"
   ]
  },
  {
   "cell_type": "code",
   "execution_count": null,
   "id": "d716f59c-b450-47a7-975a-d65262d70e52",
   "metadata": {
    "execution": {
     "iopub.execute_input": "2024-05-18T03:10:54.874772Z",
     "iopub.status.busy": "2024-05-18T03:10:54.874391Z",
     "iopub.status.idle": "2024-05-18T03:10:55.677558Z",
     "shell.execute_reply": "2024-05-18T03:10:55.676879Z",
     "shell.execute_reply.started": "2024-05-18T03:10:54.874747Z"
    }
   },
   "outputs": [],
   "source": [
    "\n",
    "from IPython.core.display import display, HTML\n",
    "from PIL import Image\n",
    "from io import BytesIO                                       #  Modified\n",
    "import base64\n",
    "import pandas as pd\n",
    "\n",
    "img = Image.open(\"/root/CleanCode/Github/MultiDiffusion/out.png\")\n",
    "img_buffer = BytesIO()                                       #  Modified\n",
    "img.save(img_buffer, format=\"PNG\")\n",
    "imgStr = base64.b64encode(img_buffer.getvalue()).decode()    #  Modified\n",
    "\n",
    "data = pd.DataFrame([[1,2,3,4,5]*100, [10,2330,30,40,50]*100])\n",
    "# data.loc[:,'img'] = '<img src=\"data:image/png;base64,{0:s}\">'\n",
    "data.loc[:,'img'] = img\n",
    "data.style.set_table_styles([\n",
    "    {'selector': 'thead', 'props': [('display', 'none')]}\n",
    "])\n",
    "# data.style.hide_column_names = data.style.hide_index_names = True\n",
    "html_all = data.to_html(escape=False).format(imgStr)\n",
    "display(HTML(html_all))"
   ]
  },
  {
   "cell_type": "code",
   "execution_count": null,
   "id": "44404de3-7c4a-4893-bc2f-156db339dea6",
   "metadata": {
    "execution": {
     "iopub.execute_input": "2024-05-18T03:05:07.619525Z",
     "iopub.status.busy": "2024-05-18T03:05:07.619040Z",
     "iopub.status.idle": "2024-05-18T03:06:36.180687Z",
     "shell.execute_reply": "2024-05-18T03:06:36.179947Z",
     "shell.execute_reply.started": "2024-05-18T03:05:07.619486Z"
    }
   },
   "outputs": [],
   "source": [
    "rp.pterm()"
   ]
  },
  {
   "cell_type": "code",
   "execution_count": null,
   "id": "c3b9b689-dc3a-475d-845c-77050962a890",
   "metadata": {
    "execution": {
     "iopub.execute_input": "2024-05-18T03:08:50.368879Z",
     "iopub.status.busy": "2024-05-18T03:08:50.368481Z",
     "iopub.status.idle": "2024-05-18T03:08:50.375071Z",
     "shell.execute_reply": "2024-05-18T03:08:50.374468Z",
     "shell.execute_reply.started": "2024-05-18T03:08:50.368852Z"
    }
   },
   "outputs": [],
   "source": [
    "df = pd.DataFrame(1, range(3), ['Look', 'At', 'My', 'Header'])\n",
    "\n",
    "df.style"
   ]
  },
  {
   "cell_type": "code",
   "execution_count": null,
   "id": "6876dbbb-d690-41b2-abce-3f82e0919fc7",
   "metadata": {
    "execution": {
     "iopub.execute_input": "2024-05-18T03:11:19.944363Z",
     "iopub.status.busy": "2024-05-18T03:11:19.943990Z",
     "iopub.status.idle": "2024-05-18T03:11:19.949814Z",
     "shell.execute_reply": "2024-05-18T03:11:19.949298Z",
     "shell.execute_reply.started": "2024-05-18T03:11:19.944337Z"
    }
   },
   "outputs": [],
   "source": [
    "df.style.set_table_styles([\n",
    "    {'selector': 'thead', 'props': [('display', 'none')]}\n",
    "])"
   ]
  },
  {
   "cell_type": "code",
   "execution_count": null,
   "id": "61891091-ee38-4436-9690-265ef3510901",
   "metadata": {
    "execution": {
     "iopub.execute_input": "2024-05-18T03:11:20.423863Z",
     "iopub.status.busy": "2024-05-18T03:11:20.423482Z",
     "iopub.status.idle": "2024-05-18T03:11:20.460889Z",
     "shell.execute_reply": "2024-05-18T03:11:20.460323Z",
     "shell.execute_reply.started": "2024-05-18T03:11:20.423834Z"
    }
   },
   "outputs": [],
   "source": [
    "html_all = df.to_html(escape=False).format(imgStr)\n",
    "display(HTML(html_all))"
   ]
  },
  {
   "cell_type": "code",
   "execution_count": null,
   "id": "f3e87747-f78c-45a0-99f6-053f9b7eb5c4",
   "metadata": {
    "execution": {
     "iopub.execute_input": "2024-05-18T03:21:09.399450Z",
     "iopub.status.busy": "2024-05-18T03:21:09.399074Z",
     "iopub.status.idle": "2024-05-18T03:21:09.405432Z",
     "shell.execute_reply": "2024-05-18T03:21:09.404885Z",
     "shell.execute_reply.started": "2024-05-18T03:21:09.399425Z"
    }
   },
   "outputs": [],
   "source": [
    "data = pd.DataFrame([[1,2,\"\",4,None], [10,2330,30,40,50]])"
   ]
  },
  {
   "cell_type": "code",
   "execution_count": null,
   "id": "b4415995-80db-445c-940f-ab50ca4b13f9",
   "metadata": {
    "execution": {
     "iopub.execute_input": "2024-05-18T03:21:09.606590Z",
     "iopub.status.busy": "2024-05-18T03:21:09.605839Z",
     "iopub.status.idle": "2024-05-18T03:21:09.614327Z",
     "shell.execute_reply": "2024-05-18T03:21:09.613739Z",
     "shell.execute_reply.started": "2024-05-18T03:21:09.606550Z"
    }
   },
   "outputs": [],
   "source": [
    "data"
   ]
  },
  {
   "cell_type": "code",
   "execution_count": null,
   "id": "07dc3ed9-e62d-4f6e-849f-f0ea03d2b76e",
   "metadata": {
    "execution": {
     "iopub.execute_input": "2024-05-18T03:46:34.806274Z",
     "iopub.status.busy": "2024-05-18T03:46:34.805891Z",
     "iopub.status.idle": "2024-05-18T03:46:35.042223Z",
     "shell.execute_reply": "2024-05-18T03:46:35.041119Z",
     "shell.execute_reply.started": "2024-05-18T03:46:34.806248Z"
    }
   },
   "outputs": [],
   "source": [
    "rp.load_images(\n",
    "            [\"https://upload.wikimedia.org/wikipedia/en/7/7d/Lenna_%28test_image%29.png\",\n",
    "            \"https://www.hartz.com/wp-content/uploads/2022/04/small-dog-owners-1.jpg\",],\n",
    "        )"
   ]
  },
  {
   "cell_type": "code",
   "execution_count": null,
   "id": "51b416f8-46de-4eb6-a0b5-a5aa7dbd5b11",
   "metadata": {
    "execution": {
     "iopub.execute_input": "2024-05-18T03:47:04.017595Z",
     "iopub.status.busy": "2024-05-18T03:47:04.016826Z",
     "iopub.status.idle": "2024-05-18T03:47:04.137237Z",
     "shell.execute_reply": "2024-05-18T03:47:04.136537Z",
     "shell.execute_reply.started": "2024-05-18T03:47:04.017554Z"
    }
   },
   "outputs": [],
   "source": [
    "rp.load_image(\"https://upload.wikimedia.org/wikipedia/en/7/7d/Lenna_%28test_image%29.png\")"
   ]
  },
  {
   "cell_type": "code",
   "execution_count": null,
   "id": "26dc7ef3-bd58-49ab-919a-038d3122d7c9",
   "metadata": {
    "execution": {
     "iopub.execute_input": "2024-05-18T04:14:56.952252Z",
     "iopub.status.busy": "2024-05-18T04:14:56.951750Z",
     "iopub.status.idle": "2024-05-18T04:14:56.955438Z",
     "shell.execute_reply": "2024-05-18T04:14:56.954849Z",
     "shell.execute_reply.started": "2024-05-18T04:14:56.952209Z"
    }
   },
   "outputs": [],
   "source": [
    "import rp"
   ]
  },
  {
   "cell_type": "code",
   "execution_count": null,
   "id": "5c996aca-5214-408d-9ef9-9a07917732e8",
   "metadata": {
    "execution": {
     "iopub.execute_input": "2024-05-18T04:19:19.188006Z",
     "iopub.status.busy": "2024-05-18T04:19:19.187727Z",
     "iopub.status.idle": "2024-05-18T04:19:19.782393Z",
     "shell.execute_reply": "2024-05-18T04:19:19.781531Z",
     "shell.execute_reply.started": "2024-05-18T04:19:19.187985Z"
    }
   },
   "outputs": [],
   "source": [
    "from rp import *"
   ]
  },
  {
   "cell_type": "code",
   "execution_count": null,
   "id": "b298b3ef-98e6-4cff-9111-0837ebc4cdd4",
   "metadata": {
    "execution": {
     "iopub.execute_input": "2024-05-18T04:19:37.353854Z",
     "iopub.status.busy": "2024-05-18T04:19:37.353462Z",
     "iopub.status.idle": "2024-05-18T04:19:37.361889Z",
     "shell.execute_reply": "2024-05-18T04:19:37.361405Z",
     "shell.execute_reply.started": "2024-05-18T04:19:37.353830Z"
    }
   },
   "outputs": [],
   "source": [
    "q=display_image(cv_text_to_image(\"AOSIJD\"))"
   ]
  },
  {
   "cell_type": "code",
   "execution_count": null,
   "id": "a80b0140-8e3e-43c0-b9d6-f7cb63b91d5b",
   "metadata": {
    "execution": {
     "iopub.execute_input": "2024-05-18T04:19:37.588359Z",
     "iopub.status.busy": "2024-05-18T04:19:37.587985Z",
     "iopub.status.idle": "2024-05-18T04:19:37.648789Z",
     "shell.execute_reply": "2024-05-18T04:19:37.648192Z",
     "shell.execute_reply.started": "2024-05-18T04:19:37.588333Z"
    }
   },
   "outputs": [],
   "source": [
    "q.update(None)"
   ]
  },
  {
   "cell_type": "code",
   "execution_count": null,
   "id": "7cf5d132-1220-4dfc-8399-df3bcf818290",
   "metadata": {},
   "outputs": [],
   "source": []
  }
 ],
 "metadata": {
  "kernelspec": {
   "display_name": "Python vaetuner",
   "language": "python",
   "name": "vaetuner"
  },
  "language_info": {
   "codemirror_mode": {
    "name": "ipython",
    "version": 3
   },
   "file_extension": ".py",
   "mimetype": "text/x-python",
   "name": "python",
   "nbconvert_exporter": "python",
   "pygments_lexer": "ipython3",
   "version": "3.10.14"
  }
 },
 "nbformat": 4,
 "nbformat_minor": 5
}
