{
 "cells": [
  {
   "cell_type": "code",
   "execution_count": null,
   "id": "03930b78-185b-4af3-b96d-4ebdd6dfbf47",
   "metadata": {
    "execution": {
     "iopub.execute_input": "2024-05-15T04:51:02.229435Z",
     "iopub.status.busy": "2024-05-15T04:51:02.229058Z",
     "iopub.status.idle": "2024-05-15T04:51:02.232725Z",
     "shell.execute_reply": "2024-05-15T04:51:02.232053Z",
     "shell.execute_reply.started": "2024-05-15T04:51:02.229410Z"
    }
   },
   "outputs": [],
   "source": [
    "import rp\n",
    "from IPython.display import clear_output\n"
   ]
  },
  {
   "cell_type": "code",
   "execution_count": null,
   "id": "34213431-4fe7-42c7-bcfd-8f0f724f02a9",
   "metadata": {
    "execution": {
     "iopub.execute_input": "2024-05-15T04:52:57.983204Z",
     "iopub.status.busy": "2024-05-15T04:52:57.982788Z",
     "iopub.status.idle": "2024-05-15T04:53:02.123000Z",
     "shell.execute_reply": "2024-05-15T04:53:02.122396Z",
     "shell.execute_reply.started": "2024-05-15T04:52:57.983179Z"
    }
   },
   "outputs": [],
   "source": [
    "import rp\n",
    "import torch\n",
    "from IPython.display import clear_output\n",
    "from diffusers import DiffusionPipeline, DDIMScheduler\n",
    "\n",
    "model_ckpt = \"stabilityai/stable-diffusion-2-base\"\n",
    "model_ckpt = \"stabilityai/stable-diffusion-2-1-base\"\n",
    "# model_ckpt = \"stabilityai/stable-diffusion-xl-base-1.0\"\n",
    "# model_ckpt = \"ByteDance/sd2.1-base-zsnr-laionaes5\"   #Zero-terminal SNR; can use rescale_betas_zero_snr=True and timestep_spacing=\"trailing\"\n",
    "model_ckpt = \"ByteDance/sd2.1-base-zsnr-laionaes6-perceptual\"   #Zero-terminal SNR; plus it uses guidance_scale=0\n",
    "\n",
    "\n",
    "scheduler = DDIMScheduler.from_pretrained(\n",
    "    model_ckpt,\n",
    "    subfolder=\"scheduler\",\n",
    "    \n",
    "    # thresholding = True,\n",
    "    rescale_betas_zero_snr=True,\n",
    "    timestep_spacing=\"trailing\",\n",
    ")\n",
    "\n",
    "pipe = DiffusionPipeline.from_pretrained(\n",
    "    model_ckpt, \n",
    "    scheduler=scheduler, \n",
    "    safety_checker=None,\n",
    "    torch_dtype=torch.float16,\n",
    ")\n",
    "\n",
    "pipe = pipe.to(\"cuda\")"
   ]
  },
  {
   "cell_type": "code",
   "execution_count": null,
   "id": "99765eee-e0cf-4864-acbe-f1339c17dae5",
   "metadata": {
    "execution": {
     "iopub.execute_input": "2024-05-15T04:53:02.124286Z",
     "iopub.status.busy": "2024-05-15T04:53:02.124016Z",
     "iopub.status.idle": "2024-05-15T04:53:43.266826Z",
     "shell.execute_reply": "2024-05-15T04:53:43.266102Z",
     "shell.execute_reply.started": "2024-05-15T04:53:02.124267Z"
    }
   },
   "outputs": [],
   "source": [
    "images = []\n",
    "for _ in range(20):\n",
    "    out=pipe(\n",
    "        \"\",\n",
    "        # \"A photo geisha isolated on a solid green background\",\n",
    "        guidance_scale=0, # Default: 7.5\n",
    "    )\n",
    "    images += out.images\n",
    "\n",
    "clear_output()\n",
    "rp.display_image(rp.tiled_images(images, length=10))"
   ]
  }
 ],
 "metadata": {
  "kernelspec": {
   "display_name": "Python vaetuner",
   "language": "python",
   "name": "vaetuner"
  },
  "language_info": {
   "codemirror_mode": {
    "name": "ipython",
    "version": 3
   },
   "file_extension": ".py",
   "mimetype": "text/x-python",
   "name": "python",
   "nbconvert_exporter": "python",
   "pygments_lexer": "ipython3",
   "version": "3.10.14"
  }
 },
 "nbformat": 4,
 "nbformat_minor": 5
}
